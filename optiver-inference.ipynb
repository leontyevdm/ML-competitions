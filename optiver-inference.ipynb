{
 "cells": [
  {
   "cell_type": "code",
   "execution_count": 1,
   "id": "0b90b50f",
   "metadata": {
    "execution": {
     "iopub.execute_input": "2023-12-20T21:10:53.999187Z",
     "iopub.status.busy": "2023-12-20T21:10:53.998808Z",
     "iopub.status.idle": "2023-12-20T21:10:59.236410Z",
     "shell.execute_reply": "2023-12-20T21:10:59.235413Z"
    },
    "papermill": {
     "duration": 5.249495,
     "end_time": "2023-12-20T21:10:59.238884",
     "exception": false,
     "start_time": "2023-12-20T21:10:53.989389",
     "status": "completed"
    },
    "tags": []
   },
   "outputs": [
    {
     "name": "stderr",
     "output_type": "stream",
     "text": [
      "/opt/conda/lib/python3.10/site-packages/scipy/__init__.py:146: UserWarning: A NumPy version >=1.16.5 and <1.23.0 is required for this version of SciPy (detected version 1.24.3\n",
      "  warnings.warn(f\"A NumPy version >={np_minversion} and <{np_maxversion}\"\n",
      "/opt/conda/lib/python3.10/site-packages/dask/dataframe/_pyarrow_compat.py:23: UserWarning: You are using pyarrow version 11.0.0 which is known to be insecure. See https://www.cve.org/CVERecord?id=CVE-2023-47248 for further details. Please upgrade to pyarrow>=14.0.1 or install pyarrow-hotfix to patch your current version.\n",
      "  warnings.warn(\n"
     ]
    }
   ],
   "source": [
    "import gc  \n",
    "import os  \n",
    "import time  \n",
    "import warnings \n",
    "from itertools import combinations  \n",
    "from warnings import simplefilter \n",
    "import joblib  \n",
    "import lightgbm as lgb  \n",
    "import numpy as np  \n",
    "import pandas as pd  \n",
    "from sklearn.metrics import mean_absolute_error \n",
    "from sklearn.model_selection import KFold, TimeSeriesSplit  \n",
    "import polars as pl\n",
    "warnings.filterwarnings(\"ignore\")\n",
    "simplefilter(action=\"ignore\", category=pd.errors.PerformanceWarning)\n",
    "\n",
    "is_offline = False \n",
    "LGB = False\n",
    "is_train = True  \n",
    "is_infer = True \n",
    "max_lookback = np.nan \n",
    "split_day = 435"
   ]
  },
  {
   "cell_type": "markdown",
   "id": "9a159182",
   "metadata": {
    "papermill": {
     "duration": 0.009619,
     "end_time": "2023-12-20T21:10:59.256814",
     "exception": false,
     "start_time": "2023-12-20T21:10:59.247195",
     "status": "completed"
    },
    "tags": []
   },
   "source": [
    "# **Utilities**"
   ]
  },
  {
   "cell_type": "code",
   "execution_count": 2,
   "id": "c7428049",
   "metadata": {
    "execution": {
     "iopub.execute_input": "2023-12-20T21:10:59.276965Z",
     "iopub.status.busy": "2023-12-20T21:10:59.276456Z",
     "iopub.status.idle": "2023-12-20T21:10:59.282507Z",
     "shell.execute_reply": "2023-12-20T21:10:59.281549Z"
    },
    "papermill": {
     "duration": 0.017927,
     "end_time": "2023-12-20T21:10:59.284397",
     "exception": false,
     "start_time": "2023-12-20T21:10:59.266470",
     "status": "completed"
    },
    "tags": []
   },
   "outputs": [],
   "source": [
    "def weighted_average(a):\n",
    "    w = []\n",
    "    n = len(a)\n",
    "    for j in range(1, n + 1):\n",
    "        j = 2 if j == 1 else j\n",
    "        w.append(1 / (2**(n + 1 - j)))\n",
    "    return w"
   ]
  },
  {
   "cell_type": "code",
   "execution_count": null,
   "id": "94d5879b",
   "metadata": {
    "papermill": {
     "duration": 0.007729,
     "end_time": "2023-12-20T21:10:59.299636",
     "exception": false,
     "start_time": "2023-12-20T21:10:59.291907",
     "status": "completed"
    },
    "tags": []
   },
   "outputs": [],
   "source": []
  },
  {
   "cell_type": "code",
   "execution_count": 3,
   "id": "c686260c",
   "metadata": {
    "execution": {
     "iopub.execute_input": "2023-12-20T21:10:59.317833Z",
     "iopub.status.busy": "2023-12-20T21:10:59.317555Z",
     "iopub.status.idle": "2023-12-20T21:10:59.330842Z",
     "shell.execute_reply": "2023-12-20T21:10:59.330139Z"
    },
    "papermill": {
     "duration": 0.024641,
     "end_time": "2023-12-20T21:10:59.332756",
     "exception": false,
     "start_time": "2023-12-20T21:10:59.308115",
     "status": "completed"
    },
    "tags": []
   },
   "outputs": [],
   "source": [
    "def reduce_mem_usage(df, verbose=0):\n",
    "    start_mem = df.memory_usage().sum() / 1024**2\n",
    "    for col in df.columns:\n",
    "        col_type = df[col].dtype\n",
    "        if col_type != object:\n",
    "            c_min = df[col].min()\n",
    "            c_max = df[col].max()\n",
    "            \n",
    "            if str(col_type)[:3] == \"int\":\n",
    "                if c_min > np.iinfo(np.int8).min and c_max < np.iinfo(np.int8).max:\n",
    "                    df[col] = df[col].astype(np.int8)\n",
    "                elif c_min > np.iinfo(np.int16).min and c_max < np.iinfo(np.int16).max:\n",
    "                    df[col] = df[col].astype(np.int16)\n",
    "                elif c_min > np.iinfo(np.int32).min and c_max < np.iinfo(np.int32).max:\n",
    "                    df[col] = df[col].astype(np.int32)\n",
    "                elif c_min > np.iinfo(np.int64).min and c_max < np.iinfo(np.int64).max:\n",
    "                    df[col] = df[col].astype(np.int64)\n",
    "            else:\n",
    "               \n",
    "                if c_min > np.finfo(np.float16).min and c_max < np.finfo(np.float16).max:\n",
    "                    df[col] = df[col].astype(np.float16)\n",
    "                elif c_min > np.finfo(np.float32).min and c_max < np.finfo(np.float32).max:\n",
    "                    df[col] = df[col].astype(np.float32)\n",
    "                else:\n",
    "                    df[col] = df[col].astype(np.float32)\n",
    "    if verbose:\n",
    "        logger.info(f\"Memory usage of dataframe is {start_mem:.2f} MB\")\n",
    "        end_mem = df.memory_usage().sum() / 1024**2\n",
    "        logger.info(f\"Memory usage after optimization is: {end_mem:.2f} MB\")\n",
    "        decrease = 100 * (start_mem - end_mem) / start_mem\n",
    "        logger.info(f\"Decreased by {decrease:.2f}%\")\n",
    "    return df\n"
   ]
  },
  {
   "cell_type": "markdown",
   "id": "ee449a62",
   "metadata": {
    "papermill": {
     "duration": 0.007321,
     "end_time": "2023-12-20T21:10:59.347503",
     "exception": false,
     "start_time": "2023-12-20T21:10:59.340182",
     "status": "completed"
    },
    "tags": []
   },
   "source": [
    "# Data Loading\n",
    "\n",
    "\n",
    "\n",
    "\n"
   ]
  },
  {
   "cell_type": "code",
   "execution_count": 4,
   "id": "41f12bae",
   "metadata": {
    "execution": {
     "iopub.execute_input": "2023-12-20T21:10:59.364063Z",
     "iopub.status.busy": "2023-12-20T21:10:59.363420Z",
     "iopub.status.idle": "2023-12-20T21:11:17.136875Z",
     "shell.execute_reply": "2023-12-20T21:11:17.136037Z"
    },
    "papermill": {
     "duration": 17.784224,
     "end_time": "2023-12-20T21:11:17.139212",
     "exception": false,
     "start_time": "2023-12-20T21:10:59.354988",
     "status": "completed"
    },
    "tags": []
   },
   "outputs": [],
   "source": [
    "df = pd.read_csv(\"/kaggle/input/optiver-trading-at-the-close/train.csv\")\n",
    "df = df.dropna(subset=[\"target\"])\n",
    "df.reset_index(drop=True, inplace=True)\n",
    "df_shape = df.shape"
   ]
  },
  {
   "cell_type": "markdown",
   "id": "d921b14b",
   "metadata": {
    "papermill": {
     "duration": 0.007647,
     "end_time": "2023-12-20T21:11:17.155185",
     "exception": false,
     "start_time": "2023-12-20T21:11:17.147538",
     "status": "completed"
    },
    "tags": []
   },
   "source": [
    " # Parallel Triplet Imbalance Calculation"
   ]
  },
  {
   "cell_type": "code",
   "execution_count": 5,
   "id": "92ac3ebb",
   "metadata": {
    "execution": {
     "iopub.execute_input": "2023-12-20T21:11:17.171529Z",
     "iopub.status.busy": "2023-12-20T21:11:17.171201Z",
     "iopub.status.idle": "2023-12-20T21:11:17.765092Z",
     "shell.execute_reply": "2023-12-20T21:11:17.764301Z"
    },
    "papermill": {
     "duration": 0.604683,
     "end_time": "2023-12-20T21:11:17.767401",
     "exception": false,
     "start_time": "2023-12-20T21:11:17.162718",
     "status": "completed"
    },
    "tags": []
   },
   "outputs": [],
   "source": [
    "from itertools import permutations\n",
    "from numba import njit, prange\n",
    "\n",
    "@njit(parallel=True)\n",
    "def my_compute_triplet_imbalance(df_values, comb_indices):\n",
    "    num_rows = df_values.shape[0]\n",
    "    num_combinations = len(comb_indices)\n",
    "    imbalance_features = np.empty((num_rows, num_combinations))\n",
    "    for i in prange(num_combinations):\n",
    "        a, b, c = comb_indices[i]\n",
    "        for j in range(num_rows):\n",
    "            first = df_values[j, a]\n",
    "            second = df_values[j, b]\n",
    "            third = df_values[j, c]\n",
    "            \n",
    "            if second == third:\n",
    "                imbalance_features[j, i] = np.nan\n",
    "            else:\n",
    "                imbalance_features[j, i] = (first - second) / (second - third)\n",
    "\n",
    "    return imbalance_features\n",
    "\n",
    "def my_calculate_triplet_imbalance_numba(price, df):\n",
    "    df_values = df[price].values\n",
    "    comb_indices = [(price.index(a), price.index(b), price.index(c)) for a, b, c in permutations(price, 3)]\n",
    "    features_array = my_compute_triplet_imbalance(df_values, comb_indices)\n",
    "    columns = [f\"{a}_{b}_{c}_imb2\" for a, b, c in permutations(price, 3)]\n",
    "    features = pd.DataFrame(features_array, columns=columns)\n",
    "    return features\n"
   ]
  },
  {
   "cell_type": "code",
   "execution_count": 6,
   "id": "3d9755cd",
   "metadata": {
    "execution": {
     "iopub.execute_input": "2023-12-20T21:11:17.784197Z",
     "iopub.status.busy": "2023-12-20T21:11:17.783877Z",
     "iopub.status.idle": "2023-12-20T21:11:17.793937Z",
     "shell.execute_reply": "2023-12-20T21:11:17.793077Z"
    },
    "papermill": {
     "duration": 0.020609,
     "end_time": "2023-12-20T21:11:17.795829",
     "exception": false,
     "start_time": "2023-12-20T21:11:17.775220",
     "status": "completed"
    },
    "tags": []
   },
   "outputs": [],
   "source": [
    "from numba import njit, prange\n",
    "\n",
    "@njit(parallel=True)\n",
    "def compute_triplet_imbalance(df_values, comb_indices):\n",
    "    num_rows = df_values.shape[0]\n",
    "    num_combinations = len(comb_indices)\n",
    "    imbalance_features = np.empty((num_rows, num_combinations))\n",
    "    for i in prange(num_combinations):\n",
    "        a, b, c = comb_indices[i]\n",
    "        for j in range(num_rows):\n",
    "            max_val = max(df_values[j, a], df_values[j, b], df_values[j, c])\n",
    "            min_val = min(df_values[j, a], df_values[j, b], df_values[j, c])\n",
    "            mid_val = df_values[j, a] + df_values[j, b] + df_values[j, c] - min_val - max_val\n",
    "            \n",
    "            if mid_val == min_val:\n",
    "                imbalance_features[j, i] = np.nan\n",
    "            else:\n",
    "                imbalance_features[j, i] = (max_val - mid_val) / (mid_val - min_val)\n",
    "\n",
    "    return imbalance_features\n",
    "\n",
    "def calculate_triplet_imbalance_numba(price, df):\n",
    "    df_values = df[price].values\n",
    "    comb_indices = [(price.index(a), price.index(b), price.index(c)) for a, b, c in combinations(price, 3)]\n",
    "    features_array = compute_triplet_imbalance(df_values, comb_indices)\n",
    "    columns = [f\"{a}_{b}_{c}_imb2\" for a, b, c in combinations(price, 3)]\n",
    "    features = pd.DataFrame(features_array, columns=columns)\n",
    "    return features\n"
   ]
  },
  {
   "cell_type": "markdown",
   "id": "718b4891",
   "metadata": {
    "papermill": {
     "duration": 0.00757,
     "end_time": "2023-12-20T21:11:17.811094",
     "exception": false,
     "start_time": "2023-12-20T21:11:17.803524",
     "status": "completed"
    },
    "tags": []
   },
   "source": [
    "# Feature Generation Functions "
   ]
  },
  {
   "cell_type": "code",
   "execution_count": 7,
   "id": "9876a9b3",
   "metadata": {
    "execution": {
     "iopub.execute_input": "2023-12-20T21:11:17.828079Z",
     "iopub.status.busy": "2023-12-20T21:11:17.827779Z",
     "iopub.status.idle": "2023-12-20T21:11:17.854655Z",
     "shell.execute_reply": "2023-12-20T21:11:17.853654Z"
    },
    "papermill": {
     "duration": 0.037917,
     "end_time": "2023-12-20T21:11:17.856602",
     "exception": false,
     "start_time": "2023-12-20T21:11:17.818685",
     "status": "completed"
    },
    "tags": []
   },
   "outputs": [],
   "source": [
    "def imbalance_features(df):\n",
    "    # Define lists of price and size-related column names\n",
    "    prices = [\"reference_price\", \"far_price\", \"near_price\", \"ask_price\", \"bid_price\", \"wap\"]\n",
    "    sizes = [\"matched_size\", \"bid_size\", \"ask_size\", \"imbalance_size\"]\n",
    "    \n",
    "    df[\"volume\"] = df.eval(\"ask_size + bid_size\")\n",
    "    df[\"mid_price\"] = df.eval(\"(ask_price + bid_price) / 2\")\n",
    "    df[\"liquidity_imbalance\"] = df.eval(\"(bid_size-ask_size)/(bid_size+ask_size)\")\n",
    "    df[\"matched_imbalance\"] = df.eval(\"(imbalance_size-matched_size)/(matched_size+imbalance_size)\")\n",
    "    df[\"size_imbalance\"] = df.eval(\"bid_size / ask_size\")\n",
    "\n",
    "    for c in combinations(prices, 2):\n",
    "        df[f\"{c[0]}_{c[1]}_imb\"] = df.eval(f\"({c[0]} - {c[1]})/({c[0]} + {c[1]})\")\n",
    "\n",
    "    for c in [['reference_price', 'ask_price', 'bid_price', 'wap'], sizes]:\n",
    "        triplet_feature = calculate_triplet_imbalance_numba(c, df)\n",
    "        df[triplet_feature.columns] = triplet_feature.values\n",
    "    \n",
    "    df[\"stock_weights\"] = df[\"stock_id\"].map(weights)\n",
    "    df[\"weighted_wap\"] = df[\"stock_weights\"] * df[\"wap\"]\n",
    "    df['wap_momentum'] = df.groupby('stock_id')['weighted_wap'].pct_change(periods=6)\n",
    "   \n",
    "    df[\"imbalance_momentum\"] = df.groupby(['stock_id'])['imbalance_size'].diff(periods=1) / df['matched_size']\n",
    "    df[\"price_spread\"] = df[\"ask_price\"] - df[\"bid_price\"]\n",
    "    df[\"spread_intensity\"] = df.groupby(['stock_id'])['price_spread'].diff()\n",
    "    df['price_pressure'] = df['imbalance_size'] * (df['ask_price'] - df['bid_price'])\n",
    "    df['market_urgency'] = df['price_spread'] * df['liquidity_imbalance']\n",
    "    df['depth_pressure'] = (df['ask_size'] - df['bid_size']) * (df['far_price'] - df['near_price'])\n",
    "    \n",
    "    df['spread_depth_ratio'] = (df['ask_price'] - df['bid_price']) / (df['bid_size'] + df['ask_size'])\n",
    "    df['mid_price_movement'] = df['mid_price'].diff(periods=5).apply(lambda x: 1 if x > 0 else (-1 if x < 0 else 0))\n",
    "    \n",
    "    df['micro_price'] = ((df['bid_price'] * df['ask_size']) + (df['ask_price'] * df['bid_size'])) / (df['bid_size'] + df['ask_size'])\n",
    "    df['relative_spread'] = (df['ask_price'] - df['bid_price']) / df['wap']\n",
    "    \n",
    "    # Calculate various statistical aggregation features\n",
    "    for func in [\"mean\", \"std\", \"skew\", \"kurt\"]:\n",
    "        df[f\"all_prices_{func}\"] = df[prices].agg(func, axis=1)\n",
    "        df[f\"all_sizes_{func}\"] = df[sizes].agg(func, axis=1)\n",
    "        \n",
    "\n",
    "    for col in ['matched_size', 'imbalance_size', 'reference_price']:\n",
    "        for window in [1,3,5,10]:\n",
    "            df[f\"{col}_shift_{window}\"] = df.groupby('stock_id')[col].shift(window)\n",
    "            df[f\"{col}_ret_{window}\"] = df.groupby('stock_id')[col].pct_change(window)\n",
    "    df[\"imbalance_buy_sell_flag_shift_1\"] = df.groupby('stock_id')['imbalance_buy_sell_flag'].shift(1)\n",
    "    # Calculate diff features for specific columns\n",
    "    #columns = ['ask_price', 'bid_price', 'ask_size', 'bid_size']\n",
    "    \n",
    "    columns = ['ask_price', 'bid_price', 'ask_size', 'bid_size', 'weighted_wap','price_spread', 'ask_price_bid_price_wap_imb2',\n",
    "       'matched_size_ask_size_imbalance_size_imb2',\n",
    "       'matched_size_bid_size_imbalance_size_imb2', 'matched_size_bid_size_ask_size_imb2',\n",
    "       'ask_price_wap_imb', 'price_pressure', 'imbalance_size', 'bid_price_wap_imb', 'liquidity_imbalance',\n",
    "       'reference_price_ask_price_bid_price_imb2',\n",
    "       'reference_price_ask_price_wap_imb2',\n",
    "       'imbalance_momentum', 'matched_imbalance',\n",
    "       'reference_price_ask_price_imb',\n",
    "       'reference_price_bid_price_imb', 'size_imbalance',\n",
    "       'reference_price_wap_imb', 'market_urgency']\n",
    "    for col in columns:\n",
    "        for window in [1,3,5,10]:\n",
    "            df[f\"{col}_diff_{window}\"] = df.groupby(\"stock_id\")[col].diff(window)\n",
    "    \n",
    "    #V4 feature\n",
    "    for window in [3,5,10]:\n",
    "        df[f'price_change_diff_{window}'] = df[f'bid_price_diff_{window}'] - df[f'ask_price_diff_{window}']\n",
    "        df[f'size_change_diff_{window}'] = df[f'bid_size_diff_{window}'] - df[f'ask_size_diff_{window}']\n",
    "\n",
    "    #V5 - rolling diff\n",
    "    # Convert from pandas to Polars\n",
    "    df = reduce_mem_usage(df)\n",
    "    pl_df = pl.from_pandas(df)\n",
    "\n",
    "    #Define the windows and columns for which you want to calculate the rolling statistics\n",
    "    windows = [3, 5, 10]\n",
    "    group = [\"stock_id\"]\n",
    "    expressions = []\n",
    "\n",
    "    # Loop over each window and column to create the rolling mean and std expressions\n",
    "    for window in windows:\n",
    "        for col in columns:\n",
    "            rolling_mean_expr = (\n",
    "                pl.col(f\"{col}_diff_{window}\")\n",
    "                .rolling_mean(window)\n",
    "                .over(group)\n",
    "                .alias(f'rolling_diff_{col}_{window}')\n",
    "            )\n",
    "            '''\n",
    "            rolling_std_expr = (\n",
    "                pl.col(f\"{col}_diff_{window}\")\n",
    "                .rolling_std(window)\n",
    "                .over(group)\n",
    "                .alias(f'rolling_std_diff_{col}_{window}')\n",
    "            )'''\n",
    "\n",
    "            expressions.append(rolling_mean_expr)\n",
    "            #expressions.append(rolling_std_expr)\n",
    "\n",
    "    # Run the operations using Polars' lazy API\n",
    "    lazy_df = pl_df.lazy().with_columns(expressions)\n",
    "\n",
    "    # Execute the lazy expressions and overwrite the pl_df variable\n",
    "    pl_df = lazy_df.collect()\n",
    "\n",
    "    # Convert back to pandas if necessary\n",
    "    df = pl_df.to_pandas()\n",
    "    gc.collect()\n",
    "    \n",
    "    df['mid_price*volume'] = df['mid_price_movement'] * df['volume']\n",
    "    df['harmonic_imbalance'] = df.eval('2 / ((1 / bid_size) + (1 / ask_size))')\n",
    "    \n",
    "    for col in df.columns:\n",
    "        df[col] = df[col].replace([np.inf, -np.inf], 0) #??\n",
    "\n",
    "    return df\n",
    "\n",
    "def other_features(df):\n",
    "    df[\"dow\"] = df[\"date_id\"] % 5  # Day of the week\n",
    "    df[\"seconds\"] = df[\"seconds_in_bucket\"] % 60  \n",
    "    df[\"minute\"] = df[\"seconds_in_bucket\"] // 60  \n",
    "    df['time_to_market_close'] = 540 - df['seconds_in_bucket']\n",
    "    \n",
    "    for key, value in global_stock_id_feats.items():\n",
    "        df[f\"global_{key}\"] = df[\"stock_id\"].map(value.to_dict())\n",
    "\n",
    "    return df\n",
    "\n",
    "def generate_all_features(df):\n",
    "    # Select relevant columns for feature generation\n",
    "    cols = [c for c in df.columns if c not in [\"row_id\", \"time_id\", \"target\"]]\n",
    "    df = df[cols]\n",
    "    \n",
    "    # Generate imbalance features\n",
    "    df = imbalance_features(df)\n",
    "    gc.collect() \n",
    "    df = other_features(df)\n",
    "    gc.collect()  \n",
    "    feature_name = [i for i in df.columns if i not in [\"row_id\", \"target\", \"time_id\", \"date_id\"]]\n",
    "    \n",
    "    return df[feature_name]\n"
   ]
  },
  {
   "cell_type": "code",
   "execution_count": 8,
   "id": "5b804824",
   "metadata": {
    "execution": {
     "iopub.execute_input": "2023-12-20T21:11:17.873528Z",
     "iopub.status.busy": "2023-12-20T21:11:17.873015Z",
     "iopub.status.idle": "2023-12-20T21:11:17.884736Z",
     "shell.execute_reply": "2023-12-20T21:11:17.883981Z"
    },
    "papermill": {
     "duration": 0.02225,
     "end_time": "2023-12-20T21:11:17.886660",
     "exception": false,
     "start_time": "2023-12-20T21:11:17.864410",
     "status": "completed"
    },
    "tags": []
   },
   "outputs": [],
   "source": [
    "weights = [\n",
    "    0.004, 0.001, 0.002, 0.006, 0.004, 0.004, 0.002, 0.006, 0.006, 0.002, 0.002, 0.008,\n",
    "    0.006, 0.002, 0.008, 0.006, 0.002, 0.006, 0.004, 0.002, 0.004, 0.001, 0.006, 0.004,\n",
    "    0.002, 0.002, 0.004, 0.002, 0.004, 0.004, 0.001, 0.001, 0.002, 0.002, 0.006, 0.004,\n",
    "    0.004, 0.004, 0.006, 0.002, 0.002, 0.04 , 0.002, 0.002, 0.004, 0.04 , 0.002, 0.001,\n",
    "    0.006, 0.004, 0.004, 0.006, 0.001, 0.004, 0.004, 0.002, 0.006, 0.004, 0.006, 0.004,\n",
    "    0.006, 0.004, 0.002, 0.001, 0.002, 0.004, 0.002, 0.008, 0.004, 0.004, 0.002, 0.004,\n",
    "    0.006, 0.002, 0.004, 0.004, 0.002, 0.004, 0.004, 0.004, 0.001, 0.002, 0.002, 0.008,\n",
    "    0.02 , 0.004, 0.006, 0.002, 0.02 , 0.002, 0.002, 0.006, 0.004, 0.002, 0.001, 0.02,\n",
    "    0.006, 0.001, 0.002, 0.004, 0.001, 0.002, 0.006, 0.006, 0.004, 0.006, 0.001, 0.002,\n",
    "    0.004, 0.006, 0.006, 0.001, 0.04 , 0.006, 0.002, 0.004, 0.002, 0.002, 0.006, 0.002,\n",
    "    0.002, 0.004, 0.006, 0.006, 0.002, 0.002, 0.008, 0.006, 0.004, 0.002, 0.006, 0.002,\n",
    "    0.004, 0.006, 0.002, 0.004, 0.001, 0.004, 0.002, 0.004, 0.008, 0.006, 0.008, 0.002,\n",
    "    0.004, 0.002, 0.001, 0.004, 0.004, 0.004, 0.006, 0.008, 0.004, 0.001, 0.001, 0.002,\n",
    "    0.006, 0.004, 0.001, 0.002, 0.006, 0.004, 0.006, 0.008, 0.002, 0.002, 0.004, 0.002,\n",
    "    0.04 , 0.002, 0.002, 0.004, 0.002, 0.002, 0.006, 0.02 , 0.004, 0.002, 0.006, 0.02,\n",
    "    0.001, 0.002, 0.006, 0.004, 0.006, 0.004, 0.004, 0.004, 0.004, 0.002, 0.004, 0.04,\n",
    "    0.002, 0.008, 0.002, 0.004, 0.001, 0.004, 0.006, 0.004,\n",
    "]\n",
    "weights = {int(k):v for k,v in enumerate(weights)}"
   ]
  },
  {
   "cell_type": "markdown",
   "id": "cc200aab",
   "metadata": {
    "papermill": {
     "duration": 0.007425,
     "end_time": "2023-12-20T21:11:17.901839",
     "exception": false,
     "start_time": "2023-12-20T21:11:17.894414",
     "status": "completed"
    },
    "tags": []
   },
   "source": [
    "## Data Splitting"
   ]
  },
  {
   "cell_type": "code",
   "execution_count": 9,
   "id": "c6b0c277",
   "metadata": {
    "execution": {
     "iopub.execute_input": "2023-12-20T21:11:17.918199Z",
     "iopub.status.busy": "2023-12-20T21:11:17.917839Z",
     "iopub.status.idle": "2023-12-20T21:11:17.923431Z",
     "shell.execute_reply": "2023-12-20T21:11:17.922663Z"
    },
    "papermill": {
     "duration": 0.0159,
     "end_time": "2023-12-20T21:11:17.925373",
     "exception": false,
     "start_time": "2023-12-20T21:11:17.909473",
     "status": "completed"
    },
    "tags": []
   },
   "outputs": [
    {
     "name": "stdout",
     "output_type": "stream",
     "text": [
      "Online mode\n"
     ]
    }
   ],
   "source": [
    "if is_offline:\n",
    "    \n",
    "    df_train = df[df[\"date_id\"] <= split_day]\n",
    "    df_valid = df[df[\"date_id\"] > split_day]\n",
    "    print(\"Offline mode\")\n",
    "    print(f\"train : {df_train.shape}, valid : {df_valid.shape}\")\n",
    "    \n",
    "else:\n",
    "    df_train = df\n",
    "    print(\"Online mode\")\n"
   ]
  },
  {
   "cell_type": "code",
   "execution_count": 10,
   "id": "73d53168",
   "metadata": {
    "execution": {
     "iopub.execute_input": "2023-12-20T21:11:17.942177Z",
     "iopub.status.busy": "2023-12-20T21:11:17.941909Z",
     "iopub.status.idle": "2023-12-20T21:13:43.231145Z",
     "shell.execute_reply": "2023-12-20T21:13:43.230098Z"
    },
    "papermill": {
     "duration": 145.300503,
     "end_time": "2023-12-20T21:13:43.233527",
     "exception": false,
     "start_time": "2023-12-20T21:11:17.933024",
     "status": "completed"
    },
    "tags": []
   },
   "outputs": [
    {
     "name": "stdout",
     "output_type": "stream",
     "text": [
      "Build Online Train Feats Finished.\n"
     ]
    }
   ],
   "source": [
    "if is_train:\n",
    "    global_stock_id_feats = {\n",
    "        \"median_size\": df_train.groupby(\"stock_id\")[\"bid_size\"].median() + df_train.groupby(\"stock_id\")[\"ask_size\"].median(),\n",
    "        \"std_size\": df_train.groupby(\"stock_id\")[\"bid_size\"].std() + df_train.groupby(\"stock_id\")[\"ask_size\"].std(),\n",
    "        \"ptp_size\": df_train.groupby(\"stock_id\")[\"bid_size\"].max() - df_train.groupby(\"stock_id\")[\"bid_size\"].min(),\n",
    "        \"median_price\": df_train.groupby(\"stock_id\")[\"bid_price\"].median() + df_train.groupby(\"stock_id\")[\"ask_price\"].median(),\n",
    "        \"std_price\": df_train.groupby(\"stock_id\")[\"bid_price\"].std() + df_train.groupby(\"stock_id\")[\"ask_price\"].std(),\n",
    "        \"ptp_price\": df_train.groupby(\"stock_id\")[\"bid_price\"].max() - df_train.groupby(\"stock_id\")[\"ask_price\"].min(),\n",
    "    }\n",
    "    if is_offline:\n",
    "        df_train_feats = generate_all_features(df_train)\n",
    "        print(\"Build Train Feats Finished.\")\n",
    "        df_valid_feats = generate_all_features(df_valid)\n",
    "        print(\"Build Valid Feats Finished.\")\n",
    "        df_valid_feats = reduce_mem_usage(df_valid_feats)\n",
    "    else:\n",
    "        df_train_feats = generate_all_features(df_train)\n",
    "        print(\"Build Online Train Feats Finished.\")\n",
    "\n",
    "    df_train_feats = reduce_mem_usage(df_train_feats)\n"
   ]
  },
  {
   "cell_type": "code",
   "execution_count": 11,
   "id": "431deb06",
   "metadata": {
    "execution": {
     "iopub.execute_input": "2023-12-20T21:13:43.251194Z",
     "iopub.status.busy": "2023-12-20T21:13:43.250887Z",
     "iopub.status.idle": "2023-12-20T21:13:43.282089Z",
     "shell.execute_reply": "2023-12-20T21:13:43.281256Z"
    },
    "papermill": {
     "duration": 0.042141,
     "end_time": "2023-12-20T21:13:43.284071",
     "exception": false,
     "start_time": "2023-12-20T21:13:43.241930",
     "status": "completed"
    },
    "tags": []
   },
   "outputs": [
    {
     "data": {
      "text/html": [
       "<div>\n",
       "<style scoped>\n",
       "    .dataframe tbody tr th:only-of-type {\n",
       "        vertical-align: middle;\n",
       "    }\n",
       "\n",
       "    .dataframe tbody tr th {\n",
       "        vertical-align: top;\n",
       "    }\n",
       "\n",
       "    .dataframe thead th {\n",
       "        text-align: right;\n",
       "    }\n",
       "</style>\n",
       "<table border=\"1\" class=\"dataframe\">\n",
       "  <thead>\n",
       "    <tr style=\"text-align: right;\">\n",
       "      <th></th>\n",
       "      <th>stock_id</th>\n",
       "      <th>seconds_in_bucket</th>\n",
       "      <th>imbalance_size</th>\n",
       "      <th>imbalance_buy_sell_flag</th>\n",
       "      <th>reference_price</th>\n",
       "      <th>matched_size</th>\n",
       "      <th>far_price</th>\n",
       "      <th>near_price</th>\n",
       "      <th>bid_price</th>\n",
       "      <th>bid_size</th>\n",
       "      <th>...</th>\n",
       "      <th>dow</th>\n",
       "      <th>seconds</th>\n",
       "      <th>minute</th>\n",
       "      <th>time_to_market_close</th>\n",
       "      <th>global_median_size</th>\n",
       "      <th>global_std_size</th>\n",
       "      <th>global_ptp_size</th>\n",
       "      <th>global_median_price</th>\n",
       "      <th>global_std_price</th>\n",
       "      <th>global_ptp_price</th>\n",
       "    </tr>\n",
       "  </thead>\n",
       "  <tbody>\n",
       "    <tr>\n",
       "      <th>0</th>\n",
       "      <td>0</td>\n",
       "      <td>0</td>\n",
       "      <td>3.180603e+06</td>\n",
       "      <td>1</td>\n",
       "      <td>1.000000</td>\n",
       "      <td>13380277.00</td>\n",
       "      <td>NaN</td>\n",
       "      <td>NaN</td>\n",
       "      <td>1.000000</td>\n",
       "      <td>60651.500000</td>\n",
       "      <td>...</td>\n",
       "      <td>0</td>\n",
       "      <td>0</td>\n",
       "      <td>0</td>\n",
       "      <td>540</td>\n",
       "      <td>42739.160156</td>\n",
       "      <td>132986.921875</td>\n",
       "      <td>5.898990e+06</td>\n",
       "      <td>2.0</td>\n",
       "      <td>0.003353</td>\n",
       "      <td>0.017410</td>\n",
       "    </tr>\n",
       "    <tr>\n",
       "      <th>1</th>\n",
       "      <td>1</td>\n",
       "      <td>0</td>\n",
       "      <td>1.666039e+05</td>\n",
       "      <td>-1</td>\n",
       "      <td>1.000000</td>\n",
       "      <td>1642214.25</td>\n",
       "      <td>NaN</td>\n",
       "      <td>NaN</td>\n",
       "      <td>1.000000</td>\n",
       "      <td>3233.040039</td>\n",
       "      <td>...</td>\n",
       "      <td>0</td>\n",
       "      <td>0</td>\n",
       "      <td>0</td>\n",
       "      <td>540</td>\n",
       "      <td>25548.500000</td>\n",
       "      <td>66444.906250</td>\n",
       "      <td>6.938986e+05</td>\n",
       "      <td>2.0</td>\n",
       "      <td>0.005589</td>\n",
       "      <td>0.029373</td>\n",
       "    </tr>\n",
       "    <tr>\n",
       "      <th>2</th>\n",
       "      <td>2</td>\n",
       "      <td>0</td>\n",
       "      <td>3.028799e+05</td>\n",
       "      <td>-1</td>\n",
       "      <td>0.999512</td>\n",
       "      <td>1819368.00</td>\n",
       "      <td>NaN</td>\n",
       "      <td>NaN</td>\n",
       "      <td>0.999512</td>\n",
       "      <td>37956.000000</td>\n",
       "      <td>...</td>\n",
       "      <td>0</td>\n",
       "      <td>0</td>\n",
       "      <td>0</td>\n",
       "      <td>540</td>\n",
       "      <td>26228.099609</td>\n",
       "      <td>75674.656250</td>\n",
       "      <td>1.069838e+06</td>\n",
       "      <td>2.0</td>\n",
       "      <td>0.005333</td>\n",
       "      <td>0.051636</td>\n",
       "    </tr>\n",
       "    <tr>\n",
       "      <th>3</th>\n",
       "      <td>3</td>\n",
       "      <td>0</td>\n",
       "      <td>1.191768e+07</td>\n",
       "      <td>-1</td>\n",
       "      <td>1.000000</td>\n",
       "      <td>18389746.00</td>\n",
       "      <td>NaN</td>\n",
       "      <td>NaN</td>\n",
       "      <td>1.000000</td>\n",
       "      <td>2324.899902</td>\n",
       "      <td>...</td>\n",
       "      <td>0</td>\n",
       "      <td>0</td>\n",
       "      <td>0</td>\n",
       "      <td>540</td>\n",
       "      <td>41667.000000</td>\n",
       "      <td>93875.773438</td>\n",
       "      <td>1.928848e+06</td>\n",
       "      <td>2.0</td>\n",
       "      <td>0.002903</td>\n",
       "      <td>0.018555</td>\n",
       "    </tr>\n",
       "    <tr>\n",
       "      <th>4</th>\n",
       "      <td>4</td>\n",
       "      <td>0</td>\n",
       "      <td>4.475500e+05</td>\n",
       "      <td>-1</td>\n",
       "      <td>0.999512</td>\n",
       "      <td>17860614.00</td>\n",
       "      <td>NaN</td>\n",
       "      <td>NaN</td>\n",
       "      <td>0.999512</td>\n",
       "      <td>16485.539062</td>\n",
       "      <td>...</td>\n",
       "      <td>0</td>\n",
       "      <td>0</td>\n",
       "      <td>0</td>\n",
       "      <td>540</td>\n",
       "      <td>34014.578125</td>\n",
       "      <td>80670.273438</td>\n",
       "      <td>1.604066e+06</td>\n",
       "      <td>2.0</td>\n",
       "      <td>0.003717</td>\n",
       "      <td>0.017380</td>\n",
       "    </tr>\n",
       "  </tbody>\n",
       "</table>\n",
       "<p>5 rows × 273 columns</p>\n",
       "</div>"
      ],
      "text/plain": [
       "   stock_id  seconds_in_bucket  imbalance_size  imbalance_buy_sell_flag  \\\n",
       "0         0                  0    3.180603e+06                        1   \n",
       "1         1                  0    1.666039e+05                       -1   \n",
       "2         2                  0    3.028799e+05                       -1   \n",
       "3         3                  0    1.191768e+07                       -1   \n",
       "4         4                  0    4.475500e+05                       -1   \n",
       "\n",
       "   reference_price  matched_size  far_price  near_price  bid_price  \\\n",
       "0         1.000000   13380277.00        NaN         NaN   1.000000   \n",
       "1         1.000000    1642214.25        NaN         NaN   1.000000   \n",
       "2         0.999512    1819368.00        NaN         NaN   0.999512   \n",
       "3         1.000000   18389746.00        NaN         NaN   1.000000   \n",
       "4         0.999512   17860614.00        NaN         NaN   0.999512   \n",
       "\n",
       "       bid_size  ...  dow  seconds  minute  time_to_market_close  \\\n",
       "0  60651.500000  ...    0        0       0                   540   \n",
       "1   3233.040039  ...    0        0       0                   540   \n",
       "2  37956.000000  ...    0        0       0                   540   \n",
       "3   2324.899902  ...    0        0       0                   540   \n",
       "4  16485.539062  ...    0        0       0                   540   \n",
       "\n",
       "   global_median_size  global_std_size  global_ptp_size  global_median_price  \\\n",
       "0        42739.160156    132986.921875     5.898990e+06                  2.0   \n",
       "1        25548.500000     66444.906250     6.938986e+05                  2.0   \n",
       "2        26228.099609     75674.656250     1.069838e+06                  2.0   \n",
       "3        41667.000000     93875.773438     1.928848e+06                  2.0   \n",
       "4        34014.578125     80670.273438     1.604066e+06                  2.0   \n",
       "\n",
       "   global_std_price  global_ptp_price  \n",
       "0          0.003353          0.017410  \n",
       "1          0.005589          0.029373  \n",
       "2          0.005333          0.051636  \n",
       "3          0.002903          0.018555  \n",
       "4          0.003717          0.017380  \n",
       "\n",
       "[5 rows x 273 columns]"
      ]
     },
     "execution_count": 11,
     "metadata": {},
     "output_type": "execute_result"
    }
   ],
   "source": [
    "df_train_feats.head(5)"
   ]
  },
  {
   "cell_type": "code",
   "execution_count": 12,
   "id": "34cbbcac",
   "metadata": {
    "execution": {
     "iopub.execute_input": "2023-12-20T21:13:43.301983Z",
     "iopub.status.busy": "2023-12-20T21:13:43.301668Z",
     "iopub.status.idle": "2023-12-20T21:13:43.447280Z",
     "shell.execute_reply": "2023-12-20T21:13:43.446392Z"
    },
    "papermill": {
     "duration": 0.15673,
     "end_time": "2023-12-20T21:13:43.449320",
     "exception": false,
     "start_time": "2023-12-20T21:13:43.292590",
     "status": "completed"
    },
    "tags": []
   },
   "outputs": [
    {
     "data": {
      "text/plain": [
       "0"
      ]
     },
     "execution_count": 12,
     "metadata": {},
     "output_type": "execute_result"
    }
   ],
   "source": [
    "import gc\n",
    "gc.collect()"
   ]
  },
  {
   "cell_type": "markdown",
   "id": "b7e014bb",
   "metadata": {
    "papermill": {
     "duration": 0.008048,
     "end_time": "2023-12-20T21:13:43.465877",
     "exception": false,
     "start_time": "2023-12-20T21:13:43.457829",
     "status": "completed"
    },
    "tags": []
   },
   "source": [
    "# **Model Training**"
   ]
  },
  {
   "cell_type": "markdown",
   "id": "4fb8b2ca",
   "metadata": {
    "papermill": {
     "duration": 0.008253,
     "end_time": "2023-12-20T21:13:43.482144",
     "exception": false,
     "start_time": "2023-12-20T21:13:43.473891",
     "status": "completed"
    },
    "tags": []
   },
   "source": [
    "# **LGB**"
   ]
  },
  {
   "cell_type": "code",
   "execution_count": 13,
   "id": "a6f85a55",
   "metadata": {
    "execution": {
     "iopub.execute_input": "2023-12-20T21:13:43.500266Z",
     "iopub.status.busy": "2023-12-20T21:13:43.499555Z",
     "iopub.status.idle": "2023-12-20T21:13:43.513885Z",
     "shell.execute_reply": "2023-12-20T21:13:43.512982Z"
    },
    "papermill": {
     "duration": 0.025878,
     "end_time": "2023-12-20T21:13:43.516176",
     "exception": false,
     "start_time": "2023-12-20T21:13:43.490298",
     "status": "completed"
    },
    "tags": []
   },
   "outputs": [],
   "source": [
    "\n",
    "if LGB:\n",
    "    import numpy as np\n",
    "    import lightgbm as lgb\n",
    "    \n",
    "    lgb_params = {\n",
    "        \"objective\": \"mae\",\n",
    "        \"n_estimators\": 6000,\n",
    "        \"num_leaves\": 256,\n",
    "        \"subsample\": 0.6,\n",
    "        \"colsample_bytree\": 0.8,\n",
    "#         \"learning_rate\": 0.00871,\n",
    "        \"learning_rate\": 0.01,\n",
    "        'max_depth': 11,\n",
    "        \"n_jobs\": 4,\n",
    "        \"device\": \"gpu\",\n",
    "        \"verbosity\": -1,\n",
    "        \"importance_type\": \"gain\",\n",
    "#         \"reg_alpha\": 0.1,\n",
    "        #\"reg_alpha\": 0.1,\n",
    "        \"reg_lambda\": 7\n",
    "    }\n",
    "\n",
    "    feature_columns = list(df_train_feats.columns)\n",
    "    print(f\"Features = {len(feature_columns)}\")\n",
    "    #print(f\"Feature length = {len(feature_columns)}\")\n",
    "\n",
    "    num_folds = 5\n",
    "    fold_size = 460 // num_folds\n",
    "    gap = 5\n",
    "\n",
    "    models = []\n",
    "    scores = []\n",
    "\n",
    "    model_save_path = 'fold_models' \n",
    "    if not os.path.exists(model_save_path):\n",
    "        os.makedirs(model_save_path)\n",
    "\n",
    "    date_ids = df_train['date_id'].values\n",
    "\n",
    "    for i in range(4, 5):\n",
    "        start = i * fold_size\n",
    "        end = start + fold_size\n",
    "        #if i < num_folds - 1:  # No need to purge after the last fold\n",
    "            #purged_start = end - 2\n",
    "            #purged_end = end + gap + 2\n",
    "            #train_indices = (date_ids >= start) & (date_ids < purged_start) | (date_ids > purged_end) & (date_ids < 460)\n",
    "        #else:\n",
    "        train_indices = (date_ids >= start) & (date_ids < 460)\n",
    "        \n",
    "        #test_indices = (date_ids >= end) & (date_ids < end + fold_size)\n",
    "        test_indices = (date_ids >= 470)\n",
    "        \n",
    "        gc.collect()\n",
    "        \n",
    "        df_fold_train = df_train_feats[train_indices]\n",
    "        df_fold_train_target = df_train['target'][train_indices]\n",
    "        df_fold_valid = df_train_feats[test_indices]\n",
    "        df_fold_valid_target = df_train['target'][test_indices]\n",
    "\n",
    "        print(f\"Fold {i+1} Model Training\")\n",
    "\n",
    "        # Train a LightGBM model for the current fold\n",
    "        lgb_model = lgb.LGBMRegressor(**lgb_params)\n",
    "        lgb_model.fit(\n",
    "            df_fold_train[feature_columns],\n",
    "            df_fold_train_target,\n",
    "            eval_set=[(df_fold_valid[feature_columns], df_fold_valid_target)], #, (df_fold_train[feature_columns], df_fold_train_target), \n",
    "            callbacks=[\n",
    "                #lgb.callback.early_stopping(stopping_rounds=100),\n",
    "                lgb.callback.log_evaluation(period=100),\n",
    "            ],\n",
    "        )\n",
    "        \n",
    "        models.append(lgb_model)\n",
    "        # Save the model to a file\n",
    "        model_filename = os.path.join(model_save_path, f'fold_{i+1}.txt')\n",
    "        lgb_model.booster_.save_model(model_filename)\n",
    "        print(f\"Model for fold {i+1} saved to {model_filename}\")\n",
    "        '''\n",
    "        fold_predictions = lgb_model.predict(df_fold_train[feature_columns])\n",
    "        fold_score = mean_absolute_error(fold_predictions, df_fold_train_target)\n",
    "        print(fold_score)\n",
    "        fold_predictions = lgb_model.predict(df_fold_valid[feature_columns])'''\n",
    "        #fold_score = mean_absolute_error(fold_predictions, df_fold_valid_target)\n",
    "        #scores.append(fold_score)\n",
    "        #print(f\":LGB Fold {i+1} MAE: {fold_score}\")\n",
    "\n",
    "        del df_fold_train, df_fold_train_target, df_fold_valid, df_fold_valid_target\n",
    "        gc.collect()\n",
    "\n",
    "    # Calculate the average best iteration from all regular folds\n",
    "    #average_best_iteration = int(np.mean([model.best_iteration_ for model in models]))\n",
    "\n",
    "    # Update the lgb_params with the average best iteration\n",
    "    final_model_params = lgb_params.copy()\n",
    "    num_model = 0\n",
    "\n",
    "    for i in range(num_model):\n",
    "        final_model = lgb.LGBMRegressor(**final_model_params)\n",
    "        final_model.fit(\n",
    "            df_train_feats[feature_columns],\n",
    "            df_train['target'],\n",
    "            callbacks=[\n",
    "                lgb.callback.log_evaluation(period=100),\n",
    "            ],\n",
    "        )\n",
    "        # Append the final model to the list of models\n",
    "        models.append(final_model)\n",
    "        model_filename = os.path.join(model_save_path, 'final.txt')\n",
    "        final_model.booster_.save_model(model_filename)\n"
   ]
  },
  {
   "cell_type": "code",
   "execution_count": 14,
   "id": "da00e49a",
   "metadata": {
    "execution": {
     "iopub.execute_input": "2023-12-20T21:13:43.534521Z",
     "iopub.status.busy": "2023-12-20T21:13:43.534252Z",
     "iopub.status.idle": "2023-12-20T21:13:43.538068Z",
     "shell.execute_reply": "2023-12-20T21:13:43.537228Z"
    },
    "papermill": {
     "duration": 0.0151,
     "end_time": "2023-12-20T21:13:43.540012",
     "exception": false,
     "start_time": "2023-12-20T21:13:43.524912",
     "status": "completed"
    },
    "tags": []
   },
   "outputs": [],
   "source": [
    "#models"
   ]
  },
  {
   "cell_type": "code",
   "execution_count": 15,
   "id": "ff98bd00",
   "metadata": {
    "execution": {
     "iopub.execute_input": "2023-12-20T21:13:43.557529Z",
     "iopub.status.busy": "2023-12-20T21:13:43.557264Z",
     "iopub.status.idle": "2023-12-20T21:13:43.560938Z",
     "shell.execute_reply": "2023-12-20T21:13:43.560112Z"
    },
    "papermill": {
     "duration": 0.014648,
     "end_time": "2023-12-20T21:13:43.562919",
     "exception": false,
     "start_time": "2023-12-20T21:13:43.548271",
     "status": "completed"
    },
    "tags": []
   },
   "outputs": [],
   "source": [
    "#from IPython.display import FileLink\n",
    "#FileLink('fold_models/final.txt')"
   ]
  },
  {
   "cell_type": "code",
   "execution_count": 16,
   "id": "284dcb73",
   "metadata": {
    "execution": {
     "iopub.execute_input": "2023-12-20T21:13:43.580616Z",
     "iopub.status.busy": "2023-12-20T21:13:43.580366Z",
     "iopub.status.idle": "2023-12-20T21:13:51.400879Z",
     "shell.execute_reply": "2023-12-20T21:13:51.399865Z"
    },
    "papermill": {
     "duration": 7.831937,
     "end_time": "2023-12-20T21:13:51.403108",
     "exception": false,
     "start_time": "2023-12-20T21:13:43.571171",
     "status": "completed"
    },
    "tags": []
   },
   "outputs": [
    {
     "data": {
      "text/plain": [
       "\"\\nfor i in range(3, 5):\\n    model = lgb.Booster(model_file='/kaggle/input/inherited-folds-models/fold_' + str(i + 1) + '.txt')\\n    models.append(model)\\nmodel = lgb.Booster(model_file='/kaggle/input/inherited-folds-models/final.txt')\\nmodels.append(models)\""
      ]
     },
     "execution_count": 16,
     "metadata": {},
     "output_type": "execute_result"
    }
   ],
   "source": [
    "models = []\n",
    "for i in range(1, 5):\n",
    "    model = lgb.Booster(model_file='/kaggle/input/combined-6000-and-3000/fold_' + str(i + 1) + '.txt')\n",
    "    models.append(model)\n",
    "    \n",
    "model = lgb.Booster(model_file='/kaggle/input/combined-6000-and-3000/fold_1.txt')\n",
    "models.append(model)\n",
    "\n",
    "'''\n",
    "for i in range(3, 5):\n",
    "    model = lgb.Booster(model_file='/kaggle/input/inherited-folds-models/fold_' + str(i + 1) + '.txt')\n",
    "    models.append(model)\n",
    "model = lgb.Booster(model_file='/kaggle/input/inherited-folds-models/final.txt')\n",
    "models.append(models)'''\n"
   ]
  },
  {
   "cell_type": "code",
   "execution_count": 17,
   "id": "d606bd0c",
   "metadata": {
    "execution": {
     "iopub.execute_input": "2023-12-20T21:13:51.421288Z",
     "iopub.status.busy": "2023-12-20T21:13:51.420993Z",
     "iopub.status.idle": "2023-12-20T21:13:51.425055Z",
     "shell.execute_reply": "2023-12-20T21:13:51.424211Z"
    },
    "papermill": {
     "duration": 0.015399,
     "end_time": "2023-12-20T21:13:51.426995",
     "exception": false,
     "start_time": "2023-12-20T21:13:51.411596",
     "status": "completed"
    },
    "tags": []
   },
   "outputs": [],
   "source": [
    "#targets = df_train[df_train['date_id'] >= 478][['stock_id', 'date_id', 'target']]\n",
    "feature_columns = list(df_train_feats.columns)"
   ]
  },
  {
   "cell_type": "markdown",
   "id": "394c3432",
   "metadata": {
    "papermill": {
     "duration": 0.008034,
     "end_time": "2023-12-20T21:13:51.443492",
     "exception": false,
     "start_time": "2023-12-20T21:13:51.435458",
     "status": "completed"
    },
    "tags": []
   },
   "source": [
    "# **Submission**"
   ]
  },
  {
   "cell_type": "code",
   "execution_count": 18,
   "id": "0f1216d5",
   "metadata": {
    "execution": {
     "iopub.execute_input": "2023-12-20T21:13:51.461130Z",
     "iopub.status.busy": "2023-12-20T21:13:51.460825Z",
     "iopub.status.idle": "2023-12-20T21:18:01.860495Z",
     "shell.execute_reply": "2023-12-20T21:18:01.859454Z"
    },
    "papermill": {
     "duration": 250.410808,
     "end_time": "2023-12-20T21:18:01.862517",
     "exception": false,
     "start_time": "2023-12-20T21:13:51.451709",
     "status": "completed"
    },
    "tags": []
   },
   "outputs": [
    {
     "name": "stdout",
     "output_type": "stream",
     "text": [
      "This version of the API is not optimized and should not be used to estimate the runtime of your code on the hidden test set.\n",
      "Feat Shape is: (200, 274)\n",
      "Feat Shape is: (200, 274)\n",
      "Feat Shape is: (200, 274)\n",
      "Feat Shape is: (200, 274)\n",
      "Feat Shape is: (200, 274)\n",
      "Feat Shape is: (200, 274)\n",
      "Feat Shape is: (200, 274)\n",
      "Feat Shape is: (200, 274)\n",
      "Feat Shape is: (200, 274)\n",
      "Feat Shape is: (200, 274)\n",
      "10 qps: 1.5433217287063599\n",
      "Feat Shape is: (200, 274)\n",
      "Feat Shape is: (200, 274)\n",
      "Feat Shape is: (200, 274)\n",
      "Feat Shape is: (200, 274)\n",
      "Feat Shape is: (200, 274)\n",
      "Feat Shape is: (200, 274)\n",
      "Feat Shape is: (200, 274)\n",
      "Feat Shape is: (200, 274)\n",
      "Feat Shape is: (200, 274)\n",
      "Feat Shape is: (200, 274)\n",
      "20 qps: 1.5159348607063294\n",
      "Feat Shape is: (200, 274)\n",
      "Feat Shape is: (200, 274)\n",
      "Feat Shape is: (200, 274)\n",
      "Feat Shape is: (200, 274)\n",
      "Feat Shape is: (200, 274)\n",
      "Feat Shape is: (200, 274)\n",
      "Feat Shape is: (200, 274)\n",
      "Feat Shape is: (200, 274)\n",
      "Feat Shape is: (200, 274)\n",
      "Feat Shape is: (200, 274)\n",
      "30 qps: 1.522456741333008\n",
      "Feat Shape is: (200, 274)\n",
      "Feat Shape is: (200, 274)\n",
      "Feat Shape is: (200, 274)\n",
      "Feat Shape is: (200, 274)\n",
      "Feat Shape is: (200, 274)\n",
      "Feat Shape is: (200, 274)\n",
      "Feat Shape is: (200, 274)\n",
      "Feat Shape is: (200, 274)\n",
      "Feat Shape is: (200, 274)\n",
      "Feat Shape is: (200, 274)\n",
      "40 qps: 1.512835443019867\n",
      "Feat Shape is: (200, 274)\n",
      "Feat Shape is: (200, 274)\n",
      "Feat Shape is: (200, 274)\n",
      "Feat Shape is: (200, 274)\n",
      "Feat Shape is: (200, 274)\n",
      "Feat Shape is: (200, 274)\n",
      "Feat Shape is: (200, 274)\n",
      "Feat Shape is: (200, 274)\n",
      "Feat Shape is: (200, 274)\n",
      "Feat Shape is: (200, 274)\n",
      "50 qps: 1.5152320194244384\n",
      "Feat Shape is: (200, 274)\n",
      "Feat Shape is: (200, 274)\n",
      "Feat Shape is: (200, 274)\n",
      "Feat Shape is: (200, 274)\n",
      "Feat Shape is: (200, 274)\n",
      "Feat Shape is: (200, 274)\n",
      "Feat Shape is: (200, 274)\n",
      "Feat Shape is: (200, 274)\n",
      "Feat Shape is: (200, 274)\n",
      "Feat Shape is: (200, 274)\n",
      "60 qps: 1.5137774030367532\n",
      "Feat Shape is: (200, 274)\n",
      "Feat Shape is: (200, 274)\n",
      "Feat Shape is: (200, 274)\n",
      "Feat Shape is: (200, 274)\n",
      "Feat Shape is: (200, 274)\n",
      "Feat Shape is: (200, 274)\n",
      "Feat Shape is: (200, 274)\n",
      "Feat Shape is: (200, 274)\n",
      "Feat Shape is: (200, 274)\n",
      "Feat Shape is: (200, 274)\n",
      "70 qps: 1.5161621809005736\n",
      "Feat Shape is: (200, 274)\n",
      "Feat Shape is: (200, 274)\n",
      "Feat Shape is: (200, 274)\n",
      "Feat Shape is: (200, 274)\n",
      "Feat Shape is: (200, 274)\n",
      "Feat Shape is: (200, 274)\n",
      "Feat Shape is: (200, 274)\n",
      "Feat Shape is: (200, 274)\n",
      "Feat Shape is: (200, 274)\n",
      "Feat Shape is: (200, 274)\n",
      "80 qps: 1.514879325032234\n",
      "Feat Shape is: (200, 274)\n",
      "Feat Shape is: (200, 274)\n",
      "Feat Shape is: (200, 274)\n",
      "Feat Shape is: (200, 274)\n",
      "Feat Shape is: (200, 274)\n",
      "Feat Shape is: (200, 274)\n",
      "Feat Shape is: (200, 274)\n",
      "Feat Shape is: (200, 274)\n",
      "Feat Shape is: (200, 274)\n",
      "Feat Shape is: (200, 274)\n",
      "90 qps: 1.5155780076980592\n",
      "Feat Shape is: (200, 274)\n",
      "Feat Shape is: (200, 274)\n",
      "Feat Shape is: (200, 274)\n",
      "Feat Shape is: (200, 274)\n",
      "Feat Shape is: (200, 274)\n",
      "Feat Shape is: (200, 274)\n",
      "Feat Shape is: (200, 274)\n",
      "Feat Shape is: (200, 274)\n",
      "Feat Shape is: (200, 274)\n",
      "Feat Shape is: (200, 274)\n",
      "100 qps: 1.5132174229621886\n",
      "Feat Shape is: (200, 274)\n",
      "Feat Shape is: (200, 274)\n",
      "Feat Shape is: (200, 274)\n",
      "Feat Shape is: (200, 274)\n",
      "Feat Shape is: (200, 274)\n",
      "Feat Shape is: (200, 274)\n",
      "Feat Shape is: (200, 274)\n",
      "Feat Shape is: (200, 274)\n",
      "Feat Shape is: (200, 274)\n",
      "Feat Shape is: (200, 274)\n",
      "110 qps: 1.513792220028964\n",
      "Feat Shape is: (200, 274)\n",
      "Feat Shape is: (200, 274)\n",
      "Feat Shape is: (200, 274)\n",
      "Feat Shape is: (200, 274)\n",
      "Feat Shape is: (200, 274)\n",
      "Feat Shape is: (200, 274)\n",
      "Feat Shape is: (200, 274)\n",
      "Feat Shape is: (200, 274)\n",
      "Feat Shape is: (200, 274)\n",
      "Feat Shape is: (200, 274)\n",
      "120 qps: 1.5127438406149547\n",
      "Feat Shape is: (200, 274)\n",
      "Feat Shape is: (200, 274)\n",
      "Feat Shape is: (200, 274)\n",
      "Feat Shape is: (200, 274)\n",
      "Feat Shape is: (200, 274)\n",
      "Feat Shape is: (200, 274)\n",
      "Feat Shape is: (200, 274)\n",
      "Feat Shape is: (200, 274)\n",
      "Feat Shape is: (200, 274)\n",
      "Feat Shape is: (200, 274)\n",
      "130 qps: 1.513964530137869\n",
      "Feat Shape is: (200, 274)\n",
      "Feat Shape is: (200, 274)\n",
      "Feat Shape is: (200, 274)\n",
      "Feat Shape is: (200, 274)\n",
      "Feat Shape is: (200, 274)\n",
      "Feat Shape is: (200, 274)\n",
      "Feat Shape is: (200, 274)\n",
      "Feat Shape is: (200, 274)\n",
      "Feat Shape is: (200, 274)\n",
      "Feat Shape is: (200, 274)\n",
      "140 qps: 1.512182697228023\n",
      "Feat Shape is: (200, 274)\n",
      "Feat Shape is: (200, 274)\n",
      "Feat Shape is: (200, 274)\n",
      "Feat Shape is: (200, 274)\n",
      "Feat Shape is: (200, 274)\n",
      "Feat Shape is: (200, 274)\n",
      "Feat Shape is: (200, 274)\n",
      "Feat Shape is: (200, 274)\n",
      "Feat Shape is: (200, 274)\n",
      "Feat Shape is: (200, 274)\n",
      "150 qps: 1.51171977519989\n",
      "Feat Shape is: (200, 274)\n",
      "Feat Shape is: (200, 274)\n",
      "Feat Shape is: (200, 274)\n",
      "Feat Shape is: (200, 274)\n",
      "Feat Shape is: (200, 274)\n",
      "Feat Shape is: (200, 274)\n",
      "Feat Shape is: (200, 274)\n",
      "Feat Shape is: (200, 274)\n",
      "Feat Shape is: (200, 274)\n",
      "Feat Shape is: (200, 274)\n",
      "160 qps: 1.5122792646288872\n",
      "Feat Shape is: (200, 274)\n",
      "Feat Shape is: (200, 274)\n",
      "Feat Shape is: (200, 274)\n",
      "Feat Shape is: (200, 274)\n",
      "Feat Shape is: (200, 274)\n",
      "The code will take approximately 1.7325 hours to reason about\n"
     ]
    }
   ],
   "source": [
    "def zero_sum(prices, volumes):\n",
    "    std_error = np.sqrt(volumes)\n",
    "    step = np.sum(prices) / np.sum(std_error)\n",
    "    out = prices - std_error * step\n",
    "    return out\n",
    "\n",
    "if is_infer:\n",
    "    import optiver2023\n",
    "    env = optiver2023.make_env()\n",
    "    iter_test = env.iter_test()\n",
    "    counter = 0\n",
    "    y_min, y_max = -64, 64\n",
    "    qps, predictions = [], []\n",
    "    cache = pd.DataFrame()\n",
    "    \n",
    "    maes = []\n",
    "    # Weights for each fold model\n",
    "    lgb_model_weights = weighted_average(models)\n",
    "    \n",
    "    for (test, revealed_targets, sample_prediction) in iter_test:\n",
    "        '''\n",
    "        if test.iloc[0]['currently_scored'] == False:\n",
    "            sample_prediction['target'] = 0\n",
    "            env.predict(sample_prediction)\n",
    "            continue'''\n",
    "        now_time = time.time()\n",
    "        cache = pd.concat([cache, test], ignore_index=True, axis=0)\n",
    "        if counter > 0:\n",
    "            cache = cache.groupby(['stock_id']).tail(21).sort_values(by=['date_id', 'seconds_in_bucket', 'stock_id']).reset_index(drop=True)\n",
    "        feat = generate_all_features(cache)[-len(test):]\n",
    "        print(f\"Feat Shape is: {feat.shape}\")\n",
    "\n",
    "        \n",
    "        lgb_predictions = np.zeros(len(test))\n",
    "        for model, weight in zip(models, lgb_model_weights):\n",
    "            lgb_predictions += weight * model.predict(feat[feature_columns])\n",
    "        \n",
    "\n",
    "        predictions = lgb_predictions\n",
    "        \n",
    "        #Using mean predictions rather than zero sum\n",
    "        final_predictions = predictions - np.mean(predictions)\n",
    "        clipped_predictions = np.clip(final_predictions, y_min, y_max)\n",
    "        sample_prediction['target'] = clipped_predictions\n",
    "        #maes.append(mean_absolute_error(clipped_predictions, targets['target'][counter*200:counter*200+200]))\n",
    "        env.predict(sample_prediction)\n",
    "        counter += 1\n",
    "        \n",
    "        qps.append(time.time() - now_time)\n",
    "        if counter % 10 == 0:\n",
    "            print(counter, 'qps:', np.mean(qps))\n",
    "\n",
    "    time_cost = 1.146 * np.mean(qps)\n",
    "    print(f\"The code will take approximately {np.round(time_cost, 4)} hours to reason about\")\n"
   ]
  },
  {
   "cell_type": "code",
   "execution_count": 19,
   "id": "45e17966",
   "metadata": {
    "execution": {
     "iopub.execute_input": "2023-12-20T21:18:01.909203Z",
     "iopub.status.busy": "2023-12-20T21:18:01.908361Z",
     "iopub.status.idle": "2023-12-20T21:18:01.914585Z",
     "shell.execute_reply": "2023-12-20T21:18:01.913693Z"
    },
    "papermill": {
     "duration": 0.031501,
     "end_time": "2023-12-20T21:18:01.916457",
     "exception": false,
     "start_time": "2023-12-20T21:18:01.884956",
     "status": "completed"
    },
    "tags": []
   },
   "outputs": [
    {
     "data": {
      "text/plain": [
       "nan"
      ]
     },
     "execution_count": 19,
     "metadata": {},
     "output_type": "execute_result"
    }
   ],
   "source": [
    "np.mean(maes)"
   ]
  }
 ],
 "metadata": {
  "kaggle": {
   "accelerator": "gpu",
   "dataSources": [
    {
     "databundleVersionId": 7056235,
     "sourceId": 57891,
     "sourceType": "competition"
    },
    {
     "datasetId": 4149081,
     "sourceId": 7178952,
     "sourceType": "datasetVersion"
    },
    {
     "datasetId": 4188666,
     "sourceId": 7233577,
     "sourceType": "datasetVersion"
    },
    {
     "datasetId": 4199584,
     "sourceId": 7248728,
     "sourceType": "datasetVersion"
    }
   ],
   "dockerImageVersionId": 30588,
   "isGpuEnabled": true,
   "isInternetEnabled": false,
   "language": "python",
   "sourceType": "notebook"
  },
  "kernelspec": {
   "display_name": "Python 3",
   "language": "python",
   "name": "python3"
  },
  "language_info": {
   "codemirror_mode": {
    "name": "ipython",
    "version": 3
   },
   "file_extension": ".py",
   "mimetype": "text/x-python",
   "name": "python",
   "nbconvert_exporter": "python",
   "pygments_lexer": "ipython3",
   "version": "3.10.12"
  },
  "papermill": {
   "default_parameters": {},
   "duration": 433.79547,
   "end_time": "2023-12-20T21:18:04.332516",
   "environment_variables": {},
   "exception": null,
   "input_path": "__notebook__.ipynb",
   "output_path": "__notebook__.ipynb",
   "parameters": {},
   "start_time": "2023-12-20T21:10:50.537046",
   "version": "2.4.0"
  }
 },
 "nbformat": 4,
 "nbformat_minor": 5
}
